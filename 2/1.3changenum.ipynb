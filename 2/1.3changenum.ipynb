{
 "cells": [
  {
   "cell_type": "code",
   "execution_count": 2,
   "metadata": {},
   "outputs": [
    {
     "name": "stdout",
     "output_type": "stream",
     "text": [
      "图像数据形状: (60000, 784)\n",
      "标签数据形状: (60000,)\n",
      "10000\n"
     ]
    }
   ],
   "source": [
    "import numpy as np  \n",
    "import struct  \n",
    "import matplotlib.pyplot as plt\n",
    "\n",
    "def load_mnist(images_path, labels_path):  \n",
    "    # 读取标签  \n",
    "    with open(labels_path, 'rb') as lbpath:  \n",
    "        magic, num = struct.unpack('>II', lbpath.read(8))  \n",
    "        labels = np.fromfile(lbpath, dtype=np.uint8)  \n",
    "\n",
    "    # 读取图像  \n",
    "    with open(images_path, 'rb') as imgpath:  \n",
    "        magic, num, rows, cols = struct.unpack('>IIII', imgpath.read(16))  \n",
    "        images = np.fromfile(imgpath, dtype=np.uint8).reshape(len(labels), 784)  \n",
    "\n",
    "    return images, labels  \n",
    "\n",
    "# 指定 MNIST 数据集的路径  \n",
    "train_images_path = 'mnist\\\\train-images.idx3-ubyte'  \n",
    "train_labels_path = 'mnist\\\\train-labels.idx1-ubyte'  \n",
    "test_images_path = 'mnist\\\\t10k-images.idx3-ubyte'  \n",
    "test_labels_path = 'mnist\\\\t10k-labels.idx1-ubyte' \n",
    "# 加载数据  \n",
    "images, labels = load_mnist(train_images_path, train_labels_path) \n",
    "images = images\n",
    "test1,test2 = load_mnist(test_images_path,test_labels_path) \n",
    "test1 = test1\n",
    "mean = np.mean(images)\n",
    "std = np.std(images)\n",
    "images = (images-mean)/std\n",
    "test1 = (test1-mean)/std\n",
    "print('图像数据形状:', images.shape)  # (60000, 784)  \n",
    "print('标签数据形状:', labels.shape)  # (60000,)\n",
    "print(test2.size)"
   ]
  },
  {
   "cell_type": "code",
   "execution_count": 3,
   "metadata": {},
   "outputs": [],
   "source": [
    "class BP():\n",
    "    def __init__(self):\n",
    "        \n",
    "        self.w2 = np.random.randn(28*28,128)\n",
    "        self.b2 = np.random.randn(1,128)\n",
    "        self.w3 = np.random.randn(128,10)\n",
    "        self.b3 = np.random.randn(1,10)\n",
    "        self.loss = 0\n",
    "\n",
    "    def forward(self,x):\n",
    "        \n",
    "        self.out2 = np.dot(x,self.w2)+self.b2\n",
    "        self.a2 = np.maximum(0,self.out2)\n",
    "        self.out3 = np.dot(self.a2,self.w3)+self.b3\n",
    "        self.out = np.exp(self.out3-np.max(self.out3,axis=1,keepdims=True))\n",
    "        self.out = self.out/np.sum(self.out,axis=1,keepdims=True)\n",
    "        return np.argmax(self.out,axis=1)\n",
    "    \n",
    "    def backword(self,x,y,train = True,learning_rate = 0.01,show = False):\n",
    "        m = y.shape[0]  # 样本数量  \n",
    "        y_onehot = np.zeros((m,10))  \n",
    "        y_onehot[np.arange(m), y.flatten()] = 1  # 将y转为one-hot编码\n",
    "        # 计算输出层误差  \n",
    "        d_out = self.out - y_onehot  \n",
    "        dw3 = np.dot(self.a2.T,d_out)/m\n",
    "        db3 = np.sum(d_out, axis=0, keepdims=True) / m\n",
    "        if train:\n",
    "            # 反向传播到隐藏层  \n",
    "            d_out2 = np.dot(d_out, self.w3.T)  \n",
    "            d_out2 = d_out2 * (self.out2 > 0) \n",
    "\n",
    "            # 计算权重2和偏置2的梯度  \n",
    "            dw2 = np.dot(x.T, d_out2) / m  \n",
    "            db2 = np.sum(d_out2, axis=0, keepdims=True) / m  \n",
    "            \n",
    "            \n",
    "            \n",
    "            \n",
    "            # 更新参数  \n",
    "            \n",
    "            self.w2 -= learning_rate * dw2  \n",
    "            self.b2 -= learning_rate * db2  \n",
    "            self.w3 -= learning_rate * dw3  \n",
    "            self.b3 -= learning_rate * db3\n",
    "        if show:\n",
    "            temp1 = np.log(self.out).flatten()\n",
    "            temp2 = y_onehot.flatten().T\n",
    "            self.loss = -(np.dot(temp1,temp2)/m)  \n",
    "\n",
    "            "
   ]
  },
  {
   "cell_type": "code",
   "execution_count": 4,
   "metadata": {},
   "outputs": [],
   "source": [
    "def mini_batch_generator(x, y, batch_size):  #每次批量随机选取数据\n",
    "    m = x.shape[0]  \n",
    "    indices = np.arange(m)  \n",
    "    np.random.shuffle(indices)  \n",
    "    for start_idx in range(0, m, batch_size):  \n",
    "        end_idx = min(start_idx + batch_size, m)  \n",
    "        batch_indices = indices[start_idx:end_idx]  \n",
    "        yield x[batch_indices], y[batch_indices]  "
   ]
  },
  {
   "cell_type": "code",
   "execution_count": 7,
   "metadata": {},
   "outputs": [
    {
     "name": "stderr",
     "output_type": "stream",
     "text": [
      "C:\\Users\\PIMBAF2A\\AppData\\Local\\Temp\\ipykernel_22368\\3641095214.py:46: RuntimeWarning: divide by zero encountered in log\n",
      "  temp1 = np.log(self.out).flatten()\n"
     ]
    },
    {
     "data": {
      "image/png": "[encoded data removed]",
      "text/plain": [
       "<Figure size 640x480 with 1 Axes>"
      ]
     },
     "metadata": {},
     "output_type": "display_data"
    }
   ],
   "source": [
    "example = BP()\n",
    "i = 0\n",
    "loss_list =[]\n",
    "lr=0.01\n",
    "for epoch in range(30):\n",
    "    \n",
    "    for x_batch, y_batch in mini_batch_generator(images, labels, 64):\n",
    "        example.forward(x_batch)\n",
    "        example.backword(x_batch,y_batch,show=True,learning_rate=lr)\n",
    "        loss_list.append(example.loss)\n",
    "\n",
    "        i+=1\n",
    "\n",
    "\n",
    "\n",
    "\n",
    "plt.plot(range(i),loss_list)\n",
    "plt.show()"
   ]
  },
  {
   "cell_type": "code",
   "execution_count": 8,
   "metadata": {},
   "outputs": [
    {
     "name": "stdout",
     "output_type": "stream",
     "text": [
      "0.9161\n"
     ]
    }
   ],
   "source": [
    "result = example.forward(test1)\n",
    "accuracy = np.sum(result == test2)/10000\n",
    "print(accuracy)"
   ]
  },
  {
   "cell_type": "code",
   "execution_count": null,
   "metadata": {},
   "outputs": [],
   "source": []
  }
 ],
 "metadata": {
  "kernelspec": {
   "display_name": "numpy",
   "language": "python",
   "name": "python3"
  },
  "language_info": {
   "codemirror_mode": {
    "name": "ipython",
    "version": 3
   },
   "file_extension": ".py",
   "mimetype": "text/x-python",
   "name": "python",
   "nbconvert_exporter": "python",
   "pygments_lexer": "ipython3",
   "version": "3.9.19"
  }
 },
 "nbformat": 4,
 "nbformat_minor": 2
}
